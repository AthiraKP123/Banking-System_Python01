{
 "cells": [
  {
   "cell_type": "code",
   "execution_count": 2,
   "id": "670f7445-c0b6-47e1-acd7-40b2c44e32ce",
   "metadata": {},
   "outputs": [
    {
     "name": "stdout",
     "output_type": "stream",
     "text": [
      "\n",
      "Welcome to the Bank\n"
     ]
    },
    {
     "name": "stdin",
     "output_type": "stream",
     "text": [
      "Enter your account number:  dhefhjh\n",
      "Enter your 4 digit PIN:  fhdhf\n"
     ]
    },
    {
     "name": "stdout",
     "output_type": "stream",
     "text": [
      "Invalid credentials. Please try again.\n",
      "\n",
      "Welcome to the Bank\n"
     ]
    },
    {
     "name": "stdin",
     "output_type": "stream",
     "text": [
      "Enter your account number:  12345678\n",
      "Enter your 4 digit PIN:  1010\n"
     ]
    },
    {
     "name": "stdout",
     "output_type": "stream",
     "text": [
      "\n",
      "1. Deposit\n",
      "2. Withdraw\n",
      "3. Check Balance\n",
      "4. Exit\n"
     ]
    },
    {
     "name": "stdin",
     "output_type": "stream",
     "text": [
      "Enter your choice:  5\n"
     ]
    },
    {
     "name": "stdout",
     "output_type": "stream",
     "text": [
      "Invalid choice. Please enter a valid option.\n",
      "\n",
      "1. Deposit\n",
      "2. Withdraw\n",
      "3. Check Balance\n",
      "4. Exit\n"
     ]
    },
    {
     "name": "stdin",
     "output_type": "stream",
     "text": [
      "Enter your choice:  1\n",
      "Enter the amount to deposit:  5000\n"
     ]
    },
    {
     "name": "stdout",
     "output_type": "stream",
     "text": [
      "Amount 5000.0 deposited successfully.\n"
     ]
    },
    {
     "name": "stdin",
     "output_type": "stream",
     "text": [
      "Press Enter to continue... \n"
     ]
    },
    {
     "name": "stdout",
     "output_type": "stream",
     "text": [
      "\n",
      "1. Deposit\n",
      "2. Withdraw\n",
      "3. Check Balance\n",
      "4. Exit\n"
     ]
    },
    {
     "name": "stdin",
     "output_type": "stream",
     "text": [
      "Enter your choice:  3\n"
     ]
    },
    {
     "name": "stdout",
     "output_type": "stream",
     "text": [
      "Your current balance is 20000.0\n"
     ]
    },
    {
     "name": "stdin",
     "output_type": "stream",
     "text": [
      "Press Enter to continue... \n"
     ]
    },
    {
     "name": "stdout",
     "output_type": "stream",
     "text": [
      "\n",
      "1. Deposit\n",
      "2. Withdraw\n",
      "3. Check Balance\n",
      "4. Exit\n"
     ]
    },
    {
     "name": "stdin",
     "output_type": "stream",
     "text": [
      "Enter your choice:  2\n",
      "Enter the amount to withdraw:  3000\n"
     ]
    },
    {
     "name": "stdout",
     "output_type": "stream",
     "text": [
      "Amount 3000.0 withdrawn successfully.\n"
     ]
    },
    {
     "name": "stdin",
     "output_type": "stream",
     "text": [
      "Press Enter to continue... \n"
     ]
    },
    {
     "name": "stdout",
     "output_type": "stream",
     "text": [
      "\n",
      "1. Deposit\n",
      "2. Withdraw\n",
      "3. Check Balance\n",
      "4. Exit\n"
     ]
    },
    {
     "name": "stdin",
     "output_type": "stream",
     "text": [
      "Enter your choice:  3\n"
     ]
    },
    {
     "name": "stdout",
     "output_type": "stream",
     "text": [
      "Your current balance is 17000.0\n"
     ]
    },
    {
     "name": "stdin",
     "output_type": "stream",
     "text": [
      "Press Enter to continue... \n"
     ]
    },
    {
     "name": "stdout",
     "output_type": "stream",
     "text": [
      "\n",
      "1. Deposit\n",
      "2. Withdraw\n",
      "3. Check Balance\n",
      "4. Exit\n"
     ]
    },
    {
     "name": "stdin",
     "output_type": "stream",
     "text": [
      "Enter your choice:  4\n"
     ]
    },
    {
     "name": "stdout",
     "output_type": "stream",
     "text": [
      "Thank you for banking with us!\n",
      "Have a great day:)\n"
     ]
    }
   ],
   "source": [
    "import random\n",
    "import sys\n",
    "\n",
    "class BankAccount:\n",
    "    def __init__(self, account_number, pin, balance=0):\n",
    "        self.account_number = account_number\n",
    "        self.pin = pin\n",
    "        self.balance = balance\n",
    "\n",
    "    def login(self, entered_account_number, entered_pin):\n",
    "        return entered_account_number == self.account_number and entered_pin == self.pin\n",
    "\n",
    "    def deposit(self, amount):\n",
    "        self.balance += amount\n",
    "        print(f\"Amount {amount} deposited successfully.\")\n",
    "        input(\"Press Enter to continue...\")\n",
    "\n",
    "    def withdraw(self, amount):\n",
    "        if amount <= self.balance:\n",
    "            self.balance -= amount\n",
    "            print(f\"Amount {amount} withdrawn successfully.\")\n",
    "        else:\n",
    "            print(\"Oops! Insufficient funds\")\n",
    "        input(\"Press Enter to continue...\")\n",
    "\n",
    "    def check_balance(self):\n",
    "        print(f\"Your current balance is {self.balance}\")\n",
    "        input(\"Press Enter to continue...\")\n",
    "\n",
    "\n",
    "# Predefined list of bank account holders\n",
    "accounts_info = [\n",
    "    {\"account_number\": \"12345678\", \"pin\": \"1010\", \"balance\": 15000},\n",
    "    {\"account_number\": \"87654321\", \"pin\": \"5050\", \"balance\": 20000},\n",
    "    # Add more account details if needed\n",
    "]\n",
    "\n",
    "# Create BankAccount instances for each account holder\n",
    "bank_accounts = [BankAccount(info[\"account_number\"], info[\"pin\"], info[\"balance\"]) for info in accounts_info]\n",
    "\n",
    "def find_account(entered_account_number, entered_pin):\n",
    "    for account in bank_accounts:\n",
    "        if account.login(entered_account_number, entered_pin):\n",
    "            return account\n",
    "    return None\n",
    "\n",
    "def main():\n",
    "    while True:\n",
    "        print(\"\\nWelcome to the Bank\")\n",
    "        entered_account_number = input(\"Enter your account number: \")\n",
    "        entered_pin = input(\"Enter your 4 digit PIN: \")\n",
    "\n",
    "        account = find_account(entered_account_number, entered_pin)\n",
    "\n",
    "        if account:\n",
    "            while True:\n",
    "                print(\"\\n1. Deposit\")\n",
    "                print(\"2. Withdraw\")\n",
    "                print(\"3. Check Balance\")\n",
    "                print(\"4. Exit\")\n",
    "                choice = input(\"Enter your choice: \")\n",
    "\n",
    "                if choice == \"1\":\n",
    "                    amount = float(input(\"Enter the amount to deposit: \"))\n",
    "                    account.deposit(amount)\n",
    "                elif choice == \"2\":\n",
    "                    amount = float(input(\"Enter the amount to withdraw: \"))\n",
    "                    account.withdraw(amount)\n",
    "                elif choice == \"3\":\n",
    "                    account.check_balance()\n",
    "                elif choice == \"4\":\n",
    "                    print(\"Thank you for banking with us!\\nHave a great day:)\")\n",
    "                    return\n",
    "                else:\n",
    "                    print(\"Invalid choice. Please enter a valid option.\")\n",
    "        else:\n",
    "            print(\"Invalid credentials. Please try again.\")\n",
    "\n",
    "if __name__ == \"__main__\":\n",
    "    main()\n"
   ]
  },
  {
   "cell_type": "code",
   "execution_count": null,
   "id": "edb4619e-0639-4350-993a-988d1fb78222",
   "metadata": {},
   "outputs": [],
   "source": []
  },
  {
   "cell_type": "code",
   "execution_count": null,
   "id": "15c5c46f-a1bd-4cd5-8172-bf3b1ca5e7f4",
   "metadata": {},
   "outputs": [],
   "source": []
  }
 ],
 "metadata": {
  "kernelspec": {
   "display_name": "Python 3 (ipykernel)",
   "language": "python",
   "name": "python3"
  },
  "language_info": {
   "codemirror_mode": {
    "name": "ipython",
    "version": 3
   },
   "file_extension": ".py",
   "mimetype": "text/x-python",
   "name": "python",
   "nbconvert_exporter": "python",
   "pygments_lexer": "ipython3",
   "version": "3.12.0"
  }
 },
 "nbformat": 4,
 "nbformat_minor": 5
}
